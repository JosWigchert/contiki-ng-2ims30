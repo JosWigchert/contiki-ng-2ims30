{
 "cells": [
  {
   "cell_type": "code",
   "execution_count": 1,
   "id": "b377f276",
   "metadata": {},
   "outputs": [],
   "source": [
    "import pandas as pd\n",
    "import numpy as np\n",
    "import collections"
   ]
  },
  {
   "cell_type": "code",
   "execution_count": 2,
   "id": "65f4c9a6",
   "metadata": {},
   "outputs": [],
   "source": [
    "# Config and importing of the dataset\n",
    "\n",
    "border_router = \"fe80::212:4b00:1665:3283\"\n",
    "\n",
    "pcap_df = pd.read_csv(\"pcap_2.csv\")\n",
    "pcap_df = pcap_df.drop([\"No.\", \"Protocol\", \"Length\"], axis=1)\n",
    "\n",
    "rank_border_router = int(pcap_df[pcap_df[\"Source\"] == border_router][\"Rank\"].unique()[0])\n",
    "if rank_border_router == 128: # differntiate for mode used\n",
    "    distance_from_parent = 128\n",
    "else:\n",
    "    distance_from_parent = 256"
   ]
  },
  {
   "cell_type": "code",
   "execution_count": 3,
   "id": "c05647d5",
   "metadata": {},
   "outputs": [
    {
     "name": "stdout",
     "output_type": "stream",
     "text": [
      "fe80::212:4b00:1665:2a04 : \n",
      " Counter({0.0: 13, 1.0: 7, 2.0: 5, 3.0: 5, 5.0: 4, 9.0: 3, 4.0: 3, 7.0: 2, 64.0: 1, 48.0: 1, 47.0: 1, 10.0: 1, 71.0: 1, 6.0: 1, 8.0: 1})\n",
      "fe80::212:4b00:1193:101 : \n",
      " Counter({0.0: 38, 2.0: 4, 10.0: 3, 1.0: 3, 8.0: 3, 4.0: 3, 3.0: 3, 234.0: 1, 196.0: 1, 15.0: 1, 17.0: 1, 6.0: 1, 5.0: 1, 26.0: 1})\n",
      "nan : \n",
      " Counter()\n",
      "fe80::212:4b00:1192:fd83 : \n",
      " Counter({0.0: 27, 13.0: 2, 5.0: 2, 1.0: 1, 2.0: 1, 176.0: 1, 34.0: 1, 15.0: 1, 23.0: 1, 10.0: 1, 9.0: 1, 8.0: 1, 6.0: 1, 4.0: 1})\n"
     ]
    }
   ],
   "source": [
    "# The malicious node has less occurances of difference_in_rank == 0\n",
    "# The malicious node has more occurances of difference_in_rank 0 < x < 10\n",
    "\n",
    "for i in pcap_df[\"Source\"].unique():\n",
    "    if i != border_router:\n",
    "        temp = pcap_df[pcap_df[\"Source\"] == i][\"Rank\"].dropna().diff().abs().dropna().tolist()\n",
    "        print(i, \": \\n\", collections.Counter(temp))"
   ]
  }
 ],
 "metadata": {
  "kernelspec": {
   "display_name": "Python 3 (ipykernel)",
   "language": "python",
   "name": "python3"
  },
  "language_info": {
   "codemirror_mode": {
    "name": "ipython",
    "version": 3
   },
   "file_extension": ".py",
   "mimetype": "text/x-python",
   "name": "python",
   "nbconvert_exporter": "python",
   "pygments_lexer": "ipython3",
   "version": "3.11.2"
  }
 },
 "nbformat": 4,
 "nbformat_minor": 5
}
